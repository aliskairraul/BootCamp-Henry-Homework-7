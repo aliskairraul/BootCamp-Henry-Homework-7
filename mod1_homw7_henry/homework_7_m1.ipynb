{
 "cells": [
  {
   "cell_type": "markdown",
   "metadata": {},
   "source": [
    "# Práctica Clase 7"
   ]
  },
  {
   "cell_type": "markdown",
   "metadata": {},
   "source": [
    "1) Diseñar una clase que permita trabajar con un árbol binario y que contenga los métodos:<br>\n",
    "    * insertaVal: para insertar un dato<br>\n",
    "    * buscaVal: que devuelva True o False si existe o no un dato<br>\n",
    "    * verVal: que imprima por pantalla los valores del árbol<br>\n",
    "\n",
    "Nota: Se puede utilizar la recursividad\n"
   ]
  },
  {
   "cell_type": "code",
   "execution_count": 5,
   "metadata": {},
   "outputs": [],
   "source": [
    "# class Nodo():\n",
    "#     def __init__(self, dato):\n",
    "#         self.dato = dato\n",
    "#         self.izq = None\n",
    "#         self.der = None"
   ]
  },
  {
   "cell_type": "code",
   "execution_count": 8,
   "metadata": {},
   "outputs": [],
   "source": [
    "# class Arbol():\n",
    "    # def __init__(self):\n",
    "    #     self.raiz = None\n",
    "\n",
    "    # def insertaVal(self, dato):\n",
    "    #     n = Nodo(dato)\n",
    "    #     if (self.raiz == None):\n",
    "    #         self.raiz = n\n",
    "    #     else:\n",
    "    #         puntero = self.raiz\n",
    "    #         if (puntero.izq == None):\n",
    "    #             puntero.izq = n\n",
    "    #         if (puntero.der == None):\n",
    "    #             puntero.der = n"
   ]
  },
  {
   "cell_type": "code",
   "execution_count": 9,
   "metadata": {},
   "outputs": [],
   "source": [
    "# a = Arbol()"
   ]
  },
  {
   "cell_type": "code",
   "execution_count": 10,
   "metadata": {},
   "outputs": [],
   "source": [
    "# a.insertaVal(2)"
   ]
  },
  {
   "cell_type": "markdown",
   "metadata": {},
   "source": [
    "Importando Estructura Arbol Binario<br>\n",
    "Metodos:\n",
    "+ insert()\n",
    "+ found()\n",
    "+ show()"
   ]
  },
  {
   "cell_type": "code",
   "execution_count": 1,
   "metadata": {},
   "outputs": [],
   "source": [
    "# Importo Librerias \n",
    "from binary_tree_homework import BinaryTree,Node, arbol_list\n",
    "import random\n",
    "import numpy as np\n",
    "import pandas as pd"
   ]
  },
  {
   "cell_type": "code",
   "execution_count": 2,
   "metadata": {},
   "outputs": [],
   "source": [
    "# Instanciando la clase BinaryTree en la Vaiable arbol\n",
    "arbol = BinaryTree()"
   ]
  },
  {
   "cell_type": "code",
   "execution_count": null,
   "metadata": {},
   "outputs": [],
   "source": [
    "# Creo una lista aleatoria de 30 numeros enteros (sin repetidos con valores comprendidos entre 1 y 100)\n",
    "lista = list(np.arange(1,101))\n",
    "lista_desordenada_30 = [] \n",
    "for i in range(100,90,-1):\n",
    "        seleccionado = lista.pop(random.randint(0,i))\n",
    "        lista_desordenada_30.append(seleccionado)\n",
    "\n",
    "lista_desordenada_30.insert(0,50) # Inserto el numero 50 para que sea Root buscando se balancee un poco el Arbol\n",
    "\n",
    "# CREO EL ARREGLO DE NUMPY PARA QUE SE MUESTRE HORIZONTAL Y SE PUEDA APRECIAR\n",
    "numpy_list = np.array(lista_desordenada_30) \n",
    "numpy_list"
   ]
  },
  {
   "cell_type": "code",
   "execution_count": 3,
   "metadata": {},
   "outputs": [],
   "source": [
    "# INSERTO TODOS LOS ELEMENTOS DE LA LISTA EN EL ARBOL\n",
    "# numpy_list = [50, 30, 80, 20, 10, 25, 40, 35, 70, 90, 75, 95]\n",
    "numpy_list = [50, 30, 80, 70, 90, 20, 40, 10,25, 35, 45,75,85]\n",
    "for element in numpy_list:\n",
    "    arbol.insert(element)"
   ]
  },
  {
   "cell_type": "code",
   "execution_count": 4,
   "metadata": {},
   "outputs": [
    {
     "name": "stdout",
     "output_type": "stream",
     "text": [
      "True\n",
      "False\n",
      "False\n",
      "False\n"
     ]
    }
   ],
   "source": [
    "# PROBANDO LA FUNCION found()\n",
    "print(arbol.found(80))\n",
    "print(arbol.found(16))\n",
    "print(arbol.found(43))\n",
    "print(arbol.found(95))"
   ]
  },
  {
   "cell_type": "code",
   "execution_count": 5,
   "metadata": {},
   "outputs": [
    {
     "name": "stdout",
     "output_type": "stream",
     "text": [
      "level 0\n",
      "50\n",
      "level 1\n",
      "30\n",
      "level 2\n",
      "20\n",
      "level 3\n",
      "10\n",
      "level 3\n",
      "25\n",
      "level 2\n",
      "40\n",
      "level 3\n",
      "35\n",
      "level 3\n",
      "45\n",
      "level 1\n",
      "80\n",
      "level 2\n",
      "70\n",
      "level 3\n",
      "75\n",
      "level 2\n",
      "90\n",
      "level 3\n",
      "85\n"
     ]
    }
   ],
   "source": [
    "# MOSTRANDO TODOS LOS ELEMENTOS DEL ARBOL E INDICANDO EN QUE NIVEL DE PROFUNDIDAD SE ENCUENTRAN\n",
    "arbol.show()"
   ]
  },
  {
   "cell_type": "code",
   "execution_count": 6,
   "metadata": {},
   "outputs": [],
   "source": [
    "# CREANDO UNA LISTA DE DICCIONARIOS CON LA INFORMACION DE LOS NODOS DEL ARBOL\n",
    "arbol.orden_arbol()"
   ]
  },
  {
   "cell_type": "code",
   "execution_count": 7,
   "metadata": {},
   "outputs": [
    {
     "data": {
      "text/plain": [
       "[{'Nodo': 50, 'level': 0, 'index': 0},\n",
       " {'Nodo': 30, 'level': 1, 'index': 0},\n",
       " {'Nodo': 20, 'level': 2, 'index': 0},\n",
       " {'Nodo': 10, 'level': 3, 'index': 0},\n",
       " {'Nodo': 25, 'level': 3, 'index': 1},\n",
       " {'Nodo': 40, 'level': 2, 'index': 1},\n",
       " {'Nodo': 35, 'level': 3, 'index': 2},\n",
       " {'Nodo': 45, 'level': 3, 'index': 3},\n",
       " {'Nodo': 80, 'level': 1, 'index': 1},\n",
       " {'Nodo': 70, 'level': 2, 'index': 2},\n",
       " {'Nodo': 75, 'level': 3, 'index': 5},\n",
       " {'Nodo': 90, 'level': 2, 'index': 3},\n",
       " {'Nodo': 85, 'level': 3, 'index': 6}]"
      ]
     },
     "execution_count": 7,
     "metadata": {},
     "output_type": "execute_result"
    }
   ],
   "source": [
    "# MOSTRANDO COMO QUEDO LA LISTA\n",
    "# PRIMEROS PASOS DE LA FUNCION RENDER\n",
    "arbol_list"
   ]
  },
  {
   "cell_type": "code",
   "execution_count": null,
   "metadata": {},
   "outputs": [],
   "source": [
    "len(arbol_list)"
   ]
  },
  {
   "cell_type": "code",
   "execution_count": 8,
   "metadata": {},
   "outputs": [
    {
     "data": {
      "text/html": [
       "<div>\n",
       "<style scoped>\n",
       "    .dataframe tbody tr th:only-of-type {\n",
       "        vertical-align: middle;\n",
       "    }\n",
       "\n",
       "    .dataframe tbody tr th {\n",
       "        vertical-align: top;\n",
       "    }\n",
       "\n",
       "    .dataframe thead th {\n",
       "        text-align: right;\n",
       "    }\n",
       "</style>\n",
       "<table border=\"1\" class=\"dataframe\">\n",
       "  <thead>\n",
       "    <tr style=\"text-align: right;\">\n",
       "      <th></th>\n",
       "      <th>Nodo</th>\n",
       "      <th>level</th>\n",
       "      <th>index</th>\n",
       "    </tr>\n",
       "  </thead>\n",
       "  <tbody>\n",
       "    <tr>\n",
       "      <th>0</th>\n",
       "      <td>50</td>\n",
       "      <td>0</td>\n",
       "      <td>0</td>\n",
       "    </tr>\n",
       "    <tr>\n",
       "      <th>1</th>\n",
       "      <td>30</td>\n",
       "      <td>1</td>\n",
       "      <td>0</td>\n",
       "    </tr>\n",
       "    <tr>\n",
       "      <th>8</th>\n",
       "      <td>80</td>\n",
       "      <td>1</td>\n",
       "      <td>1</td>\n",
       "    </tr>\n",
       "    <tr>\n",
       "      <th>2</th>\n",
       "      <td>20</td>\n",
       "      <td>2</td>\n",
       "      <td>0</td>\n",
       "    </tr>\n",
       "    <tr>\n",
       "      <th>5</th>\n",
       "      <td>40</td>\n",
       "      <td>2</td>\n",
       "      <td>1</td>\n",
       "    </tr>\n",
       "    <tr>\n",
       "      <th>9</th>\n",
       "      <td>70</td>\n",
       "      <td>2</td>\n",
       "      <td>2</td>\n",
       "    </tr>\n",
       "    <tr>\n",
       "      <th>11</th>\n",
       "      <td>90</td>\n",
       "      <td>2</td>\n",
       "      <td>3</td>\n",
       "    </tr>\n",
       "    <tr>\n",
       "      <th>3</th>\n",
       "      <td>10</td>\n",
       "      <td>3</td>\n",
       "      <td>0</td>\n",
       "    </tr>\n",
       "    <tr>\n",
       "      <th>4</th>\n",
       "      <td>25</td>\n",
       "      <td>3</td>\n",
       "      <td>1</td>\n",
       "    </tr>\n",
       "    <tr>\n",
       "      <th>6</th>\n",
       "      <td>35</td>\n",
       "      <td>3</td>\n",
       "      <td>2</td>\n",
       "    </tr>\n",
       "    <tr>\n",
       "      <th>7</th>\n",
       "      <td>45</td>\n",
       "      <td>3</td>\n",
       "      <td>3</td>\n",
       "    </tr>\n",
       "    <tr>\n",
       "      <th>10</th>\n",
       "      <td>75</td>\n",
       "      <td>3</td>\n",
       "      <td>5</td>\n",
       "    </tr>\n",
       "    <tr>\n",
       "      <th>12</th>\n",
       "      <td>85</td>\n",
       "      <td>3</td>\n",
       "      <td>6</td>\n",
       "    </tr>\n",
       "  </tbody>\n",
       "</table>\n",
       "</div>"
      ],
      "text/plain": [
       "    Nodo  level  index\n",
       "0     50      0      0\n",
       "1     30      1      0\n",
       "8     80      1      1\n",
       "2     20      2      0\n",
       "5     40      2      1\n",
       "9     70      2      2\n",
       "11    90      2      3\n",
       "3     10      3      0\n",
       "4     25      3      1\n",
       "6     35      3      2\n",
       "7     45      3      3\n",
       "10    75      3      5\n",
       "12    85      3      6"
      ]
     },
     "execution_count": 8,
     "metadata": {},
     "output_type": "execute_result"
    }
   ],
   "source": [
    "# Creo un Dataframe con la lista de diccionarios y la ordeno por level e index\n",
    "df = pd.DataFrame(arbol_list).sort_values(['level','index'])\n",
    "df"
   ]
  },
  {
   "cell_type": "code",
   "execution_count": 9,
   "metadata": {},
   "outputs": [
    {
     "data": {
      "text/plain": [
       "3"
      ]
     },
     "execution_count": 9,
     "metadata": {},
     "output_type": "execute_result"
    }
   ],
   "source": [
    "# OBTENGO LA PROFUNDIDAD DEL ARBOL\n",
    "depth = df['level'].max()\n",
    "depth"
   ]
  },
  {
   "cell_type": "code",
   "execution_count": 10,
   "metadata": {},
   "outputs": [
    {
     "data": {
      "text/plain": [
       "[['  '],\n",
       " ['  ', '  '],\n",
       " ['  ', '  ', '  ', '  '],\n",
       " ['  ', '  ', '  ', '  ', '  ', '  ', '  ', '  ']]"
      ]
     },
     "execution_count": 10,
     "metadata": {},
     "output_type": "execute_result"
    }
   ],
   "source": [
    "# CREO UNA LISTA CON LAS DIMENSIONES MAXIMAS QUE PUEDE TOMAR UN ARBOL DE PROFUNDIDAD = depth\n",
    "mostrar = [['  ']]\n",
    "for i in range(1,(depth+1)):\n",
    "    mostrar.append([])\n",
    "    for j in range(2**(i)):\n",
    "        mostrar[i].append('  ')\n",
    "\n",
    "mostrar"
   ]
  },
  {
   "cell_type": "code",
   "execution_count": 11,
   "metadata": {},
   "outputs": [],
   "source": [
    "# RECORRO EL DATAFRAME Y UBICO LOS NODOS EN SU RESPECTIVA UBICACION DENTRO DE LA LISTA \n",
    "for row in range(df.shape[0]):\n",
    "    i = df['level'][row]\n",
    "    j = df['index'][row]\n",
    "    mostrar[i][j] = str(df['Nodo'][row]) if len(str(df['Nodo'][row])) == 2 else '0'+str(df['Nodo'][row])"
   ]
  },
  {
   "cell_type": "code",
   "execution_count": 12,
   "metadata": {},
   "outputs": [
    {
     "data": {
      "text/plain": [
       "[['50'],\n",
       " ['30', '80'],\n",
       " ['20', '40', '70', '90'],\n",
       " ['10', '25', '35', '45', '  ', '75', '85', '  ']]"
      ]
     },
     "execution_count": 12,
     "metadata": {},
     "output_type": "execute_result"
    }
   ],
   "source": [
    "mostrar"
   ]
  }
 ],
 "metadata": {
  "kernelspec": {
   "display_name": "Python 3",
   "language": "python",
   "name": "python3"
  },
  "language_info": {
   "codemirror_mode": {
    "name": "ipython",
    "version": 3
   },
   "file_extension": ".py",
   "mimetype": "text/x-python",
   "name": "python",
   "nbconvert_exporter": "python",
   "pygments_lexer": "ipython3",
   "version": "3.10.11"
  }
 },
 "nbformat": 4,
 "nbformat_minor": 4
}
